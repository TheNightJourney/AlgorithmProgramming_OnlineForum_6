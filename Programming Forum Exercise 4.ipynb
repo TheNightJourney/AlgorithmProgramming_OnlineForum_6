{
 "cells": [
  {
   "cell_type": "code",
   "execution_count": 59,
   "id": "f0f2f194",
   "metadata": {},
   "outputs": [],
   "source": [
    "# Create three dictionaries, and add the gradebook keys.\n",
    "\n",
    "Eren = {\"Name\":\"Eren\",\"Homework\":\" \",\"Quizzes\":\" \",\"Tests\":\" \"}\n",
    "Mikasa = {\"Name\":\"Mikasa\",\"Homework\":\" \",\"Quizzes\":\" \",\"Tests\":\" \"}\n",
    "Armin = {\"Name\":\"Armin\",\"Homework\":\" \",\"Quizzes\":\" \",\"Tests\":\" \"}"
   ]
  },
  {
   "cell_type": "code",
   "execution_count": 67,
   "id": "f1b121bc",
   "metadata": {},
   "outputs": [
    {
     "name": "stdout",
     "output_type": "stream",
     "text": [
      "Name: Eren\n",
      "Homework: [90.0, 97.0, 75.0, 92.0]\n",
      "Quizzes: [88.0, 40.0, 94.0]\n",
      "Tests: [75.0, 90.0]\n",
      "\n",
      "Name: Mikasa\n",
      "Homework: [100.0, 92.0, 98.0, 100.0]\n",
      "Quizzes: [82.0, 83.0, 91.0]\n",
      "Tests: [89.0, 97.0]\n",
      "\n",
      "Name: Armin\n",
      "Homework: [0.0, 87.0, 75.0, 22.0]\n",
      "Quizzes: [0.0, 75.0, 78.0]\n",
      "Tests: [100.0, 100.0]\n",
      "\n"
     ]
    }
   ],
   "source": [
    "Eren = {\n",
    " \"name\": \"Eren\",\n",
    " \"homework\": [90.0,97.0,75.0,92.0],\n",
    " \"quizzes\": [88.0,40.0,94.0],\n",
    " \"tests\": [75.0,90.0]\n",
    "}\n",
    "Mikasa = {\n",
    "\"name\": \"Mikasa\",\n",
    "\"homework\": [100.0, 92.0, 98.0, 100.0],\n",
    "\"quizzes\": [82.0, 83.0, 91.0],\n",
    "\"tests\": [89.0, 97.0]\n",
    "}\n",
    "\n",
    "Armin = {\n",
    "\"name\": \"Armin\",\n",
    "\"homework\": [0.0, 87.0, 75.0, 22.0],\n",
    "\"quizzes\": [0.0, 75.0, 78.0],\n",
    "\"tests\": [100.0, 100.0]\n",
    "}\n",
    "\n",
    "students = [\"Eren\",\"Mikasa\",\"Armin\"]\n",
    "\n",
    "# print the student's name\n",
    "# print the student's homework\n",
    "# print the student's quizzes\n",
    "# print the student's tests\n",
    "\n",
    "for i in students:\n",
    "    print(\"Name:\", eval(i + \"['name']\"))\n",
    "    print(\"Homework:\", eval(i + \"['homework']\"))\n",
    "    print(\"Quizzes:\", eval(i + \"['quizzes']\"))\n",
    "    print(\"Tests:\", eval(i + \"['tests']\"))\n",
    "    print()"
   ]
  },
  {
   "cell_type": "code",
   "execution_count": 68,
   "id": "15da772b",
   "metadata": {},
   "outputs": [],
   "source": [
    "# Write a function average that takes a list of numbers and returns the average.\n",
    "# Define a function called average that has one argument, numbers.\n",
    "# Inside that function, call the built-in sum() function with the numbers list as a parameter. Store\n",
    "# the result in a variable called total.\n",
    "# Use float() to convert total and store the result in total.\n",
    "# Divide total by the length of the numbers list. Use the built-in len() function to calculate that.\n",
    "# Return that result.\n",
    "\n",
    "def avg_num(numbers):\n",
    "    total = sum(numbers)\n",
    "    float(total)\n",
    "    final_average = total / len(numbers)\n",
    "    return float(final_average)"
   ]
  },
  {
   "cell_type": "code",
   "execution_count": 69,
   "id": "2be05521",
   "metadata": {
    "scrolled": true
   },
   "outputs": [
    {
     "name": "stdout",
     "output_type": "stream",
     "text": [
      "79.9\n"
     ]
    }
   ],
   "source": [
    "# Write a function called get_average that takes a student dictionary (like eren, mikasa, or armin) as input\n",
    "# and returns his/her weighted average.\n",
    "# Define a function called get_average that takes one argument called student.\n",
    "# Make a variable homework that stores the average() of student[\"homework\"].\n",
    "# Repeat step 2 for \"quizzes\" and \"tests\".\n",
    "# Multiply the 3 averages by their weights and return the sum of those three. Homework is 10%,\n",
    "# quizzes are 30% and tests are 60%.\n",
    "\n",
    "def get_average(student):\n",
    "    Homework = avg_num(eval(i + \"['homework']\"))\n",
    "    Quizzes = avg_num(eval(i + \"['quizzes']\"))\n",
    "    Tests = avg_num(eval(i + \"['tests']\")) \n",
    "    Final_Homework = Homework * 0.1\n",
    "    Final_Quizzes = Quizzes * 0.3\n",
    "    Final_Tests = Tests * 0.6\n",
    "    Final_Weightage = Final_Homework + Final_Quizzes + Final_Tests\n",
    "    return Final_Weightage\n",
    "\n",
    "print(get_average(Eren))\n"
   ]
  },
  {
   "cell_type": "code",
   "execution_count": 73,
   "id": "d402a076",
   "metadata": {},
   "outputs": [
    {
     "name": "stdout",
     "output_type": "stream",
     "text": [
      "Eren's grade is C\n"
     ]
    }
   ],
   "source": [
    "# Define a new function called get_letter_grade that has one argument called score. Expect score to be a\n",
    "# number.\n",
    "# Inside your function, test score using a chain of if: / elif: / else: statements, like so:\n",
    "# If score is 90 or above: return \"A\"\n",
    "# Else if score is 80 or above: return \"B\"\n",
    "# Else if score is 70 or above: return \"C\"\n",
    "# Else if score is 60 or above: return \"D\"\n",
    "# Otherwise: return \"F\"\n",
    "# Finally, test your function. Call your get_letter_grade function with the result\n",
    "# of get_average(lloyd). Print the resulting letter grade.\n",
    "\n",
    "def get_letter_grade(score):\n",
    "    if score >= 90:\n",
    "        return 'A'\n",
    "    elif score >= 80:\n",
    "        return 'B'\n",
    "    elif score >= 70:\n",
    "        return 'C'\n",
    "    elif score >= 60:\n",
    "        return 'D'\n",
    "    else:\n",
    "        return 'F'\n",
    "\n",
    "print(\"Eren's grade is\",get_letter_grade(get_average(Eren)))"
   ]
  },
  {
   "cell_type": "code",
   "execution_count": 74,
   "id": "dd726e7f",
   "metadata": {},
   "outputs": [
    {
     "name": "stdout",
     "output_type": "stream",
     "text": [
      "Grade Average: 79.9\n",
      "Final Score: C\n"
     ]
    }
   ],
   "source": [
    "# Define a function called get_class_average that has one argument, students. You can expect students\n",
    "# to be a list containing your three students.\n",
    "# First, make an empty list called results.\n",
    "# For each student item in the class list, calculate get_average(student) and then call\n",
    "# results.append() with that result.\n",
    "# Finally, return the result of calling average() with results\n",
    "# Finally, print out the result of calling get_class_averagewith your students list. Your students should be\n",
    "# [eren, mikasa, armin].\n",
    "# Then, print the result of get_letter_grade for the class's average.\n",
    "\n",
    "def get_class_average(students):\n",
    "    result = []\n",
    "    for x in students:\n",
    "        result.append(get_average(x))\n",
    "    return get_average(result)\n",
    "\n",
    "print(\"Grade Average: \",get_class_average(students),sep=\"\")\n",
    "print(\"Final Score: \",get_letter_grade(get_class_average(students)),sep=\"\")"
   ]
  }
 ],
 "metadata": {
  "kernelspec": {
   "display_name": "Python 3 (ipykernel)",
   "language": "python",
   "name": "python3"
  },
  "language_info": {
   "codemirror_mode": {
    "name": "ipython",
    "version": 3
   },
   "file_extension": ".py",
   "mimetype": "text/x-python",
   "name": "python",
   "nbconvert_exporter": "python",
   "pygments_lexer": "ipython3",
   "version": "3.9.13"
  }
 },
 "nbformat": 4,
 "nbformat_minor": 5
}
