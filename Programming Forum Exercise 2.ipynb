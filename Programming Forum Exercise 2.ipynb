{
 "cells": [
  {
   "cell_type": "code",
   "execution_count": 10,
   "id": "8b45638d",
   "metadata": {},
   "outputs": [],
   "source": [
    "# 1. Create a new dictionary called prices using {} format like the example above.\n",
    "\n",
    "prices = {}\n",
    "\n",
    "# Put these values in your prices dictionary:\n",
    "# \"banana\": 4,\n",
    "# \"apple\": 2,\n",
    "# \"orange\": 1.5,\n",
    "# \"pear\": 3\n",
    "\n",
    "prices['banana'] = 4\n",
    "prices['apple'] = 2\n",
    "prices['orange'] = 1.5\n",
    "prices['pear'] = 3\n",
    "\n",
    "stock = {\n",
    " \"banana\": 6,\n",
    " \"apple\": 0,\n",
    " \"orange\": 32,\n",
    " \"pear\": 15\n",
    "}\n"
   ]
  },
  {
   "cell_type": "code",
   "execution_count": 13,
   "id": "c846bd1e",
   "metadata": {},
   "outputs": [
    {
     "name": "stdout",
     "output_type": "stream",
     "text": [
      "banana\n",
      "price: 4\n",
      "stock: 6\n",
      "\n",
      "apple\n",
      "price: 2\n",
      "stock: 0\n",
      "\n",
      "orange\n",
      "price: 1.5\n",
      "stock: 32\n",
      "\n",
      "pear\n",
      "price: 3\n",
      "stock: 15\n",
      "\n"
     ]
    }
   ],
   "source": [
    "# 2. Loop through each key in prices. For each key, print out the key along with its price and stock\n",
    "# information. Print the answer.\n",
    "\n",
    "for i in prices:\n",
    "    print(i)\n",
    "    print(\"price:\", prices[i])\n",
    "    print(\"stock:\", stock[i])\n",
    "    print()"
   ]
  },
  {
   "cell_type": "code",
   "execution_count": 17,
   "id": "c68fac7b",
   "metadata": {},
   "outputs": [
    {
     "name": "stdout",
     "output_type": "stream",
     "text": [
      "banana\n",
      "price: 4\n",
      "stock: 6\n",
      "Income if everything sold: 24.0\n",
      "\n",
      "apple\n",
      "price: 2\n",
      "stock: 0\n",
      "Income if everything sold: 0.0\n",
      "\n",
      "orange\n",
      "price: 1.5\n",
      "stock: 32\n",
      "Income if everything sold: 48.0\n",
      "\n",
      "pear\n",
      "price: 3\n",
      "stock: 15\n",
      "Income if everything sold: 45.0\n",
      "\n",
      "Total: 117.0\n"
     ]
    }
   ],
   "source": [
    "# 3. Create a variable called total and set it to zero.\n",
    "# Loop through the prices dictionaries. For each key in prices, multiply the number in prices by the\n",
    "# number in stock. Print that value into the console and then add it to total.\n",
    "# Finally, outside your loop, print total.\n",
    "\n",
    "total = 0\n",
    "\n",
    "for i in prices:\n",
    "    print(i)\n",
    "    print(\"price:\", prices[i])\n",
    "    print(\"stock:\", stock[i])\n",
    "    print(\"Income if everything sold:\", float(prices[i]) * float(stock[i]))\n",
    "    print()\n",
    "    total += prices[i] * stock[i]\n",
    "print(\"Total:\", total)\n"
   ]
  },
  {
   "cell_type": "code",
   "execution_count": null,
   "id": "73c102b7",
   "metadata": {},
   "outputs": [],
   "source": []
  }
 ],
 "metadata": {
  "kernelspec": {
   "display_name": "Python 3 (ipykernel)",
   "language": "python",
   "name": "python3"
  },
  "language_info": {
   "codemirror_mode": {
    "name": "ipython",
    "version": 3
   },
   "file_extension": ".py",
   "mimetype": "text/x-python",
   "name": "python",
   "nbconvert_exporter": "python",
   "pygments_lexer": "ipython3",
   "version": "3.9.13"
  }
 },
 "nbformat": 4,
 "nbformat_minor": 5
}
