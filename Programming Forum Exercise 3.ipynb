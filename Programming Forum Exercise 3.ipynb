{
 "cells": [
  {
   "cell_type": "code",
   "execution_count": 16,
   "id": "48a6a1dc",
   "metadata": {},
   "outputs": [
    {
     "name": "stdout",
     "output_type": "stream",
     "text": [
      "7.5\n"
     ]
    }
   ],
   "source": [
    "# Exercise 3\n",
    "\n",
    "food_list = [\"banana\",\"orange\",\"apple\"]\n",
    "\n",
    "stock = {\n",
    " \"banana\": 6,\n",
    " \"apple\": 0,\n",
    " \"orange\": 32,\n",
    " \"pear\": 15\n",
    "}\n",
    "prices = {\n",
    " \"banana\": 4,\n",
    " \"apple\": 2,\n",
    " \"orange\": 1.5,\n",
    " \"pear\": 3\n",
    "}\n",
    "\n",
    "# Define a function compute_bill that takes one argument food as input. In the function, create a\n",
    "# variable total with an initial value of zero. For each item in the food list, add the price of that item to\n",
    "# total. Finally, return the total. Ignore whether the item you're billing for is in stock. Note that your\n",
    "# function should work for any food list.\n",
    "\n",
    "\n",
    "def compute_bill(food):\n",
    "    total = 0\n",
    "    for i in food_list:\n",
    "        total = total + prices[i]\n",
    "    return total\n",
    "\n",
    "print(compute_bill(\"banana\"))"
   ]
  },
  {
   "cell_type": "code",
   "execution_count": 17,
   "id": "bf03d93e",
   "metadata": {},
   "outputs": [
    {
     "name": "stdout",
     "output_type": "stream",
     "text": [
      "5.5\n",
      "{'banana': 5, 'apple': 0, 'orange': 31, 'pear': 15}\n"
     ]
    }
   ],
   "source": [
    "# Make the following changes to your compute_bill function:\n",
    "# While you loop through each item of food, only add the price of the item to total if the item's\n",
    "# stock count is greater than zero.\n",
    "# If the item is in stock and after you add the price to the total, subtract one from the item's stock\n",
    "# count.\n",
    "\n",
    "def upgraded_compute_bill(food):\n",
    "    total = 0\n",
    "    for i in food_list:\n",
    "        if stock.get(i,0) > 0:\n",
    "            total = total + prices[i]\n",
    "            stock[i] -= 1\n",
    "    return total\n",
    "\n",
    "print(upgraded_compute_bill(\"banana\"))\n",
    "print(stock)"
   ]
  }
 ],
 "metadata": {
  "kernelspec": {
   "display_name": "Python 3 (ipykernel)",
   "language": "python",
   "name": "python3"
  },
  "language_info": {
   "codemirror_mode": {
    "name": "ipython",
    "version": 3
   },
   "file_extension": ".py",
   "mimetype": "text/x-python",
   "name": "python",
   "nbconvert_exporter": "python",
   "pygments_lexer": "ipython3",
   "version": "3.9.13"
  }
 },
 "nbformat": 4,
 "nbformat_minor": 5
}
