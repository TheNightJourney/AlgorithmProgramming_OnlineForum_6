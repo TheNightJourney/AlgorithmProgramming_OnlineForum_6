{
 "cells": [
  {
   "cell_type": "code",
   "execution_count": 45,
   "id": "c709389a",
   "metadata": {
    "scrolled": true
   },
   "outputs": [
    {
     "name": "stdout",
     "output_type": "stream",
     "text": [
      "{'gold': 500, 'pouch': ['flint', 'twine', 'gemstone'], 'backpack': ['xylophone', 'dagger', 'bedroll', 'bread loaf']}\n"
     ]
    }
   ],
   "source": [
    "# Exercise 1\n",
    "# Given the following dictionary:\n",
    "\n",
    "inventory = {\n",
    " 'gold' : 500,\n",
    " 'pouch' : ['flint', 'twine', 'gemstone'],\n",
    " 'backpack' : ['xylophone','dagger', 'bedroll','bread loaf']\n",
    "}\n",
    "\n",
    "print(inventory)\n",
    "# Try to do the following:"
   ]
  },
  {
   "cell_type": "code",
   "execution_count": 46,
   "id": "12de6876",
   "metadata": {},
   "outputs": [
    {
     "name": "stdout",
     "output_type": "stream",
     "text": [
      "{'gold': 500, 'pouch': ['flint', 'twine', 'gemstone'], 'backpack': ['xylophone', 'dagger', 'bedroll', 'bread loaf'], 'pocket': []}\n"
     ]
    }
   ],
   "source": [
    "# 1. Add a key to the inventory called \"Pocket\".\n",
    "\n",
    "inventory[\"pocket\"] = []\n",
    "\n",
    "print(inventory)"
   ]
  },
  {
   "cell_type": "code",
   "execution_count": 47,
   "id": "883e6554",
   "metadata": {},
   "outputs": [
    {
     "name": "stdout",
     "output_type": "stream",
     "text": [
      "{'gold': 500, 'pouch': ['flint', 'twine', 'gemstone'], 'backpack': ['xylophone', 'dagger', 'bedroll', 'bread loaf'], 'pocket': ['seashell', 'strange berry', 'lint']}\n"
     ]
    }
   ],
   "source": [
    "# 2. Set the value of 'pocket' to be a list consisting of the strings 'seashell', 'strange berry', and 'lint'.\n",
    "\n",
    "inventory[\"pocket\"] = ['seashell','strange berry','lint']\n",
    "print(inventory)"
   ]
  },
  {
   "cell_type": "code",
   "execution_count": 48,
   "id": "7778a6db",
   "metadata": {},
   "outputs": [
    {
     "name": "stdout",
     "output_type": "stream",
     "text": [
      "['bedroll', 'bread loaf', 'dagger', 'xylophone']\n"
     ]
    }
   ],
   "source": [
    "# 3. Use sort() to sort the items in the list stored under the 'backpack' key.\n",
    "\n",
    "print(sorted(inventory[\"backpack\"]))"
   ]
  },
  {
   "cell_type": "code",
   "execution_count": 49,
   "id": "ad16da11",
   "metadata": {},
   "outputs": [
    {
     "name": "stdout",
     "output_type": "stream",
     "text": [
      "{'gold': 500, 'pouch': ['flint', 'twine', 'gemstone'], 'backpack': ['xylophone', 'bedroll', 'bread loaf'], 'pocket': ['seashell', 'strange berry', 'lint']}\n"
     ]
    }
   ],
   "source": [
    "# 4. Then .remove('dagger') from the list of items stored under the 'backpack' key.\n",
    "\n",
    "inventory['backpack'].remove('dagger')\n",
    "\n",
    "print(inventory)"
   ]
  },
  {
   "cell_type": "code",
   "execution_count": 50,
   "id": "d16fac64",
   "metadata": {
    "scrolled": true
   },
   "outputs": [
    {
     "name": "stdout",
     "output_type": "stream",
     "text": [
      "gold : 550\n",
      "pouch : ['flint', 'twine', 'gemstone']\n",
      "backpack : ['xylophone', 'bedroll', 'bread loaf']\n",
      "pocket : ['seashell', 'strange berry', 'lint']\n"
     ]
    }
   ],
   "source": [
    "# 5. Add 50 to the number stored under the 'gold' key.\n",
    "\n",
    "inventory['gold'] += 50\n",
    "\n",
    "for i in inventory:\n",
    "    print(i, ':', inventory[i])"
   ]
  },
  {
   "cell_type": "code",
   "execution_count": null,
   "id": "e93baa85",
   "metadata": {},
   "outputs": [],
   "source": []
  }
 ],
 "metadata": {
  "kernelspec": {
   "display_name": "Python 3 (ipykernel)",
   "language": "python",
   "name": "python3"
  },
  "language_info": {
   "codemirror_mode": {
    "name": "ipython",
    "version": 3
   },
   "file_extension": ".py",
   "mimetype": "text/x-python",
   "name": "python",
   "nbconvert_exporter": "python",
   "pygments_lexer": "ipython3",
   "version": "3.9.13"
  }
 },
 "nbformat": 4,
 "nbformat_minor": 5
}
