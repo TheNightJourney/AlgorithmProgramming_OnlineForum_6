{
 "cells": [
  {
   "cell_type": "code",
   "execution_count": 5,
   "id": "f0f2f194",
   "metadata": {},
   "outputs": [],
   "source": [
    "# Create three dictionaries, and add the gradebook keys.\n",
    "\n",
    "Eren = {\"Name\":\"Eren\",\"Homework\":\" \",\"Quizzes\":\" \",\"Tests\":\" \"}\n",
    "Mikasa = {\"Name\":\"Mikasa\",\"Homework\":\" \",\"Quizzes\":\" \",\"Tests\":\" \"}\n",
    "Armin = {\"Name\":\"Armin\",\"Homework\":\" \",\"Quizzes\":\" \",\"Tests\":\" \"}"
   ]
  },
  {
   "cell_type": "code",
   "execution_count": 27,
   "id": "f1b121bc",
   "metadata": {},
   "outputs": [
    {
     "name": "stdout",
     "output_type": "stream",
     "text": [
      "Name: Eren\n",
      "Homework: [90.0, 97.0, 75.0, 92.0]\n",
      "Quizzes: [88.0, 40.0, 94.0]\n",
      "Tests: [75.0, 90.0]\n",
      "\n",
      "Name: Mikasa\n",
      "Homework: [100.0, 92.0, 98.0, 100.0]\n",
      "Quizzes: [82.0, 83.0, 91.0]\n",
      "Tests: [89.0, 97.0]\n",
      "\n",
      "Name: Armin\n",
      "Homework: [0.0, 87.0, 75.0, 22.0]\n",
      "Quizzes: [0.0, 75.0, 78.0]\n",
      "Tests: [100.0, 100.0]\n",
      "\n"
     ]
    }
   ],
   "source": [
    "Eren = {\n",
    " \"name\": \"Eren\",\n",
    " \"homework\": [90.0,97.0,75.0,92.0],\n",
    " \"quizzes\": [88.0,40.0,94.0],\n",
    " \"tests\": [75.0,90.0]\n",
    "}\n",
    "Mikasa = {\n",
    "\"name\": \"Mikasa\",\n",
    "\"homework\": [100.0, 92.0, 98.0, 100.0],\n",
    "\"quizzes\": [82.0, 83.0, 91.0],\n",
    "\"tests\": [89.0, 97.0]\n",
    "}\n",
    "\n",
    "Armin = {\n",
    "\"name\": \"Armin\",\n",
    "\"homework\": [0.0, 87.0, 75.0, 22.0],\n",
    "\"quizzes\": [0.0, 75.0, 78.0],\n",
    "\"tests\": [100.0, 100.0]\n",
    "}\n",
    "\n",
    "name_list = [\"Eren\",\"Mikasa\",\"Armin\"]\n",
    "\n",
    "# print the student's name\n",
    "# print the student's homework\n",
    "# print the student's quizzes\n",
    "# print the student's tests\n",
    "\n",
    "for i in name_list:\n",
    "    print(\"Name:\", eval(i + \"['name']\"))\n",
    "    print(\"Homework:\", eval(i + \"['homework']\"))\n",
    "    print(\"Quizzes:\", eval(i + \"['quizzes']\"))\n",
    "    print(\"Tests:\", eval(i + \"['tests']\"))\n",
    "    print()"
   ]
  },
  {
   "cell_type": "code",
   "execution_count": 31,
   "id": "15da772b",
   "metadata": {},
   "outputs": [],
   "source": [
    "# Write a function average that takes a list of numbers and returns the average.\n",
    "# Define a function called average that has one argument, numbers.\n",
    "# Inside that function, call the built-in sum() function with the numbers list as a parameter. Store\n",
    "# the result in a variable called total.\n",
    "# Use float() to convert total and store the result in total.\n",
    "# Divide total by the length of the numbers list. Use the built-in len() function to calculate that.\n",
    "# Return that result.\n",
    "\n",
    "def avg_num(numbers):\n",
    "    total = sum(numbers)\n",
    "    float(total)\n",
    "    final_average = total / len(numbers)\n",
    "    return float(final_average)"
   ]
  },
  {
   "cell_type": "code",
   "execution_count": 34,
   "id": "2be05521",
   "metadata": {},
   "outputs": [
    {
     "name": "stdout",
     "output_type": "stream",
     "text": [
      "80.55\n"
     ]
    }
   ],
   "source": [
    "# Write a function called get_average that takes a student dictionary (like eren, mikasa, or armin) as input\n",
    "# and returns his/her weighted average.\n",
    "# Define a function called get_average that takes one argument called student.\n",
    "# Make a variable homework that stores the average() of student[\"homework\"].\n",
    "# Repeat step 2 for \"quizzes\" and \"tests\".\n",
    "# Multiply the 3 averages by their weights and return the sum of those three. Homework is 10%,\n",
    "# quizzes are 30% and tests are 60%.\n",
    "\n",
    "def get_average(student):\n",
    "    Homework = avg_num(student[\"homework\"])\n",
    "    Quizzes = avg_num(student[\"quizzes\"])\n",
    "    Tests = avg_num(student[\"tests\"])\n",
    "    FHomework = Homework * 0.10\n",
    "    FQuizzes = Quizzes * 0.30\n",
    "    FTests = Tests * 0.60\n",
    "    Final_Weightage = FHomework + FQuizzes + FTests\n",
    "    return Final_Weightage\n",
    "\n",
    "print(get_average(Eren))\n"
   ]
  },
  {
   "cell_type": "code",
   "execution_count": null,
   "id": "d402a076",
   "metadata": {},
   "outputs": [],
   "source": []
  }
 ],
 "metadata": {
  "kernelspec": {
   "display_name": "Python 3 (ipykernel)",
   "language": "python",
   "name": "python3"
  },
  "language_info": {
   "codemirror_mode": {
    "name": "ipython",
    "version": 3
   },
   "file_extension": ".py",
   "mimetype": "text/x-python",
   "name": "python",
   "nbconvert_exporter": "python",
   "pygments_lexer": "ipython3",
   "version": "3.9.13"
  }
 },
 "nbformat": 4,
 "nbformat_minor": 5
}
